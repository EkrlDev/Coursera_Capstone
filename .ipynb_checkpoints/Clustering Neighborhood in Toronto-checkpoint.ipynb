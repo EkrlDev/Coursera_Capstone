{
 "cells": [
  {
   "cell_type": "code",
   "execution_count": 1,
   "metadata": {},
   "outputs": [
    {
     "name": "stdout",
     "output_type": "stream",
     "text": [
      "Collecting package metadata (current_repodata.json): ...working... done\n",
      "Solving environment: ...working... done\n",
      "\n",
      "## Package Plan ##\n",
      "\n",
      "  environment location: C:\\ProgramData\\Anaconda3\n",
      "\n",
      "  added / updated specs:\n",
      "    - beautifulsoup4\n",
      "\n",
      "\n",
      "The following NEW packages will be INSTALLED:\n",
      "\n",
      "  python_abi         conda-forge/win-64::python_abi-3.7-1_cp37m\n",
      "\n",
      "The following packages will be UPDATED:\n",
      "\n",
      "  conda                      pkgs/main::conda-4.7.12-py37_0 --> conda-forge::conda-4.8.3-py37hc8dfbb8_1\n",
      "\n",
      "\n",
      "Preparing transaction: ...working... done\n",
      "Verifying transaction: ...working... failed\n"
     ]
    },
    {
     "name": "stderr",
     "output_type": "stream",
     "text": [
      "\n",
      "\n",
      "==> WARNING: A newer version of conda exists. <==\n",
      "  current version: 4.7.12\n",
      "  latest version: 4.8.3\n",
      "\n",
      "Please update conda by running\n",
      "\n",
      "    $ conda update -n base -c defaults conda\n",
      "\n",
      "\n",
      "\n",
      "EnvironmentNotWritableError: The current user does not have write permissions to the target environment.\n",
      "  environment location: C:\\ProgramData\\Anaconda3\n",
      "\n",
      "\n"
     ]
    }
   ],
   "source": [
    "!conda install -c conda-forge beautifulsoup4 --yes"
   ]
  },
  {
   "cell_type": "code",
   "execution_count": null,
   "metadata": {},
   "outputs": [],
   "source": [
    "conda update -n base -c defaults conda"
   ]
  },
  {
   "cell_type": "code",
   "execution_count": 1,
   "metadata": {},
   "outputs": [],
   "source": [
    "import requests"
   ]
  },
  {
   "cell_type": "code",
   "execution_count": 2,
   "metadata": {},
   "outputs": [
    {
     "name": "stdout",
     "output_type": "stream",
     "text": [
      "Collecting package metadata (current_repodata.json): ...working... done\n",
      "Solving environment: ...working... done\n",
      "\n",
      "## Package Plan ##\n",
      "\n",
      "  environment location: C:\\ProgramData\\Anaconda3\n",
      "\n",
      "  added / updated specs:\n",
      "    - lxml\n",
      "\n",
      "\n",
      "The following NEW packages will be INSTALLED:\n",
      "\n",
      "  python_abi         conda-forge/win-64::python_abi-3.7-1_cp37m\n",
      "\n",
      "The following packages will be UPDATED:\n",
      "\n",
      "  conda                      pkgs/main::conda-4.7.12-py37_0 --> conda-forge::conda-4.8.3-py37hc8dfbb8_1\n",
      "\n",
      "\n",
      "Preparing transaction: ...working... done\n",
      "Verifying transaction: ...working... failed\n"
     ]
    },
    {
     "name": "stderr",
     "output_type": "stream",
     "text": [
      "\n",
      "\n",
      "==> WARNING: A newer version of conda exists. <==\n",
      "  current version: 4.7.12\n",
      "  latest version: 4.8.3\n",
      "\n",
      "Please update conda by running\n",
      "\n",
      "    $ conda update -n base -c defaults conda\n",
      "\n",
      "\n",
      "\n",
      "EnvironmentNotWritableError: The current user does not have write permissions to the target environment.\n",
      "  environment location: C:\\ProgramData\\Anaconda3\n",
      "\n",
      "\n"
     ]
    }
   ],
   "source": [
    "!conda install -c conda-forge lxml --yes"
   ]
  },
  {
   "cell_type": "code",
   "execution_count": 3,
   "metadata": {},
   "outputs": [
    {
     "name": "stdout",
     "output_type": "stream",
     "text": [
      "Collecting package metadata (current_repodata.json): ...working... done\n",
      "Solving environment: ...working... done\n",
      "\n",
      "## Package Plan ##\n",
      "\n",
      "  environment location: C:\\ProgramData\\Anaconda3\n",
      "\n",
      "  added / updated specs:\n",
      "    - html5lib\n",
      "\n",
      "\n",
      "The following NEW packages will be INSTALLED:\n",
      "\n",
      "  python_abi         conda-forge/win-64::python_abi-3.7-1_cp37m\n",
      "\n",
      "The following packages will be UPDATED:\n",
      "\n",
      "  conda                      pkgs/main::conda-4.7.12-py37_0 --> conda-forge::conda-4.8.3-py37hc8dfbb8_1\n",
      "\n",
      "\n",
      "Preparing transaction: ...working... done\n",
      "Verifying transaction: ...working... failed\n"
     ]
    },
    {
     "name": "stderr",
     "output_type": "stream",
     "text": [
      "\n",
      "\n",
      "==> WARNING: A newer version of conda exists. <==\n",
      "  current version: 4.7.12\n",
      "  latest version: 4.8.3\n",
      "\n",
      "Please update conda by running\n",
      "\n",
      "    $ conda update -n base -c defaults conda\n",
      "\n",
      "\n",
      "\n",
      "EnvironmentNotWritableError: The current user does not have write permissions to the target environment.\n",
      "  environment location: C:\\ProgramData\\Anaconda3\n",
      "\n",
      "\n"
     ]
    }
   ],
   "source": [
    "!conda install -c conda-forge html5lib --yes"
   ]
  },
  {
   "cell_type": "code",
   "execution_count": 8,
   "metadata": {},
   "outputs": [
    {
     "name": "stdout",
     "output_type": "stream",
     "text": [
      "Collecting package metadata (current_repodata.json): ...working... done\n",
      "Solving environment: ...working... done\n",
      "\n",
      "## Package Plan ##\n",
      "\n",
      "  environment location: C:\\ProgramData\\Anaconda3\n",
      "\n",
      "  added / updated specs:\n",
      "    - tabulate\n",
      "\n",
      "\n",
      "The following packages will be downloaded:\n",
      "\n",
      "    package                    |            build\n",
      "    ---------------------------|-----------------\n",
      "    tabulate-0.8.7             |     pyh9f0ad1d_0          24 KB  conda-forge\n",
      "    ------------------------------------------------------------\n",
      "                                           Total:          24 KB\n",
      "\n",
      "The following NEW packages will be INSTALLED:\n",
      "\n",
      "  python_abi         conda-forge/win-64::python_abi-3.7-1_cp37m\n",
      "  tabulate           conda-forge/noarch::tabulate-0.8.7-pyh9f0ad1d_0\n",
      "\n",
      "The following packages will be UPDATED:\n",
      "\n",
      "  conda                      pkgs/main::conda-4.7.12-py37_0 --> conda-forge::conda-4.8.3-py37hc8dfbb8_1\n",
      "\n",
      "\n",
      "\n",
      "Downloading and Extracting Packages\n",
      "\n",
      "tabulate-0.8.7       | 24 KB     |            |   0% \n",
      "tabulate-0.8.7       | 24 KB     | ######5    |  65% \n",
      "tabulate-0.8.7       | 24 KB     | ########## | 100% \n",
      "Preparing transaction: ...working... done\n",
      "Verifying transaction: ...working... failed\n"
     ]
    },
    {
     "name": "stderr",
     "output_type": "stream",
     "text": [
      "\n",
      "\n",
      "==> WARNING: A newer version of conda exists. <==\n",
      "  current version: 4.7.12\n",
      "  latest version: 4.8.3\n",
      "\n",
      "Please update conda by running\n",
      "\n",
      "    $ conda update -n base -c defaults conda\n",
      "\n",
      "\n",
      "\n",
      "EnvironmentNotWritableError: The current user does not have write permissions to the target environment.\n",
      "  environment location: C:\\ProgramData\\Anaconda3\n",
      "\n",
      "\n"
     ]
    }
   ],
   "source": [
    "!conda install -c conda-forge tabulate --yes"
   ]
  },
  {
   "cell_type": "code",
   "execution_count": 37,
   "metadata": {},
   "outputs": [
    {
     "name": "stdout",
     "output_type": "stream",
     "text": [
      "[{\"Postal code\":\"M1A\",\"Borough\":\"Not assigned\",\"Neighborhood\":null},{\"Postal code\":\"M2A\",\"Borough\":\"Not assigned\",\"Neighborhood\":null},{\"Postal code\":\"M3A\",\"Borough\":\"North York\",\"Neighborhood\":\"Parkwoods\"},{\"Postal code\":\"M4A\",\"Borough\":\"North York\",\"Neighborhood\":\"Victoria Village\"},{\"Postal code\":\"M5A\",\"Borough\":\"Downtown Toronto\",\"Neighborhood\":\"Regent Park \\/ Harbourfront\"},{\"Postal code\":\"M6A\",\"Borough\":\"North York\",\"Neighborhood\":\"Lawrence Manor \\/ Lawrence Heights\"},{\"Postal code\":\"M7A\",\"Borough\":\"Downtown Toronto\",\"Neighborhood\":\"Queen's Park \\/ Ontario Provincial Government\"},{\"Postal code\":\"M8A\",\"Borough\":\"Not assigned\",\"Neighborhood\":null},{\"Postal code\":\"M9A\",\"Borough\":\"Etobicoke\",\"Neighborhood\":\"Islington Avenue\"},{\"Postal code\":\"M1B\",\"Borough\":\"Scarborough\",\"Neighborhood\":\"Malvern \\/ Rouge\"},{\"Postal code\":\"M2B\",\"Borough\":\"Not assigned\",\"Neighborhood\":null},{\"Postal code\":\"M3B\",\"Borough\":\"North York\",\"Neighborhood\":\"Don Mills\"},{\"Postal code\":\"M4B\",\"Borough\":\"East York\",\"Neighborhood\":\"Parkview Hill \\/ Woodbine Gardens\"},{\"Postal code\":\"M5B\",\"Borough\":\"Downtown Toronto\",\"Neighborhood\":\"Garden District, Ryerson\"},{\"Postal code\":\"M6B\",\"Borough\":\"North York\",\"Neighborhood\":\"Glencairn\"},{\"Postal code\":\"M7B\",\"Borough\":\"Not assigned\",\"Neighborhood\":null},{\"Postal code\":\"M8B\",\"Borough\":\"Not assigned\",\"Neighborhood\":null},{\"Postal code\":\"M9B\",\"Borough\":\"Etobicoke\",\"Neighborhood\":\"West Deane Park \\/ Princess Gardens \\/ Martin Grove \\/ Islington \\/ Cloverdale\"},{\"Postal code\":\"M1C\",\"Borough\":\"Scarborough\",\"Neighborhood\":\"Rouge Hill \\/ Port Union \\/ Highland Creek\"},{\"Postal code\":\"M2C\",\"Borough\":\"Not assigned\",\"Neighborhood\":null},{\"Postal code\":\"M3C\",\"Borough\":\"North York\",\"Neighborhood\":\"Don Mills\"},{\"Postal code\":\"M4C\",\"Borough\":\"East York\",\"Neighborhood\":\"Woodbine Heights\"},{\"Postal code\":\"M5C\",\"Borough\":\"Downtown Toronto\",\"Neighborhood\":\"St. James Town\"},{\"Postal code\":\"M6C\",\"Borough\":\"York\",\"Neighborhood\":\"Humewood-Cedarvale\"},{\"Postal code\":\"M7C\",\"Borough\":\"Not assigned\",\"Neighborhood\":null},{\"Postal code\":\"M8C\",\"Borough\":\"Not assigned\",\"Neighborhood\":null},{\"Postal code\":\"M9C\",\"Borough\":\"Etobicoke\",\"Neighborhood\":\"Eringate \\/ Bloordale Gardens \\/ Old Burnhamthorpe \\/ Markland Wood\"},{\"Postal code\":\"M1E\",\"Borough\":\"Scarborough\",\"Neighborhood\":\"Guildwood \\/ Morningside \\/ West Hill\"},{\"Postal code\":\"M2E\",\"Borough\":\"Not assigned\",\"Neighborhood\":null},{\"Postal code\":\"M3E\",\"Borough\":\"Not assigned\",\"Neighborhood\":null},{\"Postal code\":\"M4E\",\"Borough\":\"East Toronto\",\"Neighborhood\":\"The Beaches\"},{\"Postal code\":\"M5E\",\"Borough\":\"Downtown Toronto\",\"Neighborhood\":\"Berczy Park\"},{\"Postal code\":\"M6E\",\"Borough\":\"York\",\"Neighborhood\":\"Caledonia-Fairbanks\"},{\"Postal code\":\"M7E\",\"Borough\":\"Not assigned\",\"Neighborhood\":null},{\"Postal code\":\"M8E\",\"Borough\":\"Not assigned\",\"Neighborhood\":null},{\"Postal code\":\"M9E\",\"Borough\":\"Not assigned\",\"Neighborhood\":null},{\"Postal code\":\"M1G\",\"Borough\":\"Scarborough\",\"Neighborhood\":\"Woburn\"},{\"Postal code\":\"M2G\",\"Borough\":\"Not assigned\",\"Neighborhood\":null},{\"Postal code\":\"M3G\",\"Borough\":\"Not assigned\",\"Neighborhood\":null},{\"Postal code\":\"M4G\",\"Borough\":\"East York\",\"Neighborhood\":\"Leaside\"},{\"Postal code\":\"M5G\",\"Borough\":\"Downtown Toronto\",\"Neighborhood\":\"Central Bay Street\"},{\"Postal code\":\"M6G\",\"Borough\":\"Downtown Toronto\",\"Neighborhood\":\"Christie\"},{\"Postal code\":\"M7G\",\"Borough\":\"Not assigned\",\"Neighborhood\":null},{\"Postal code\":\"M8G\",\"Borough\":\"Not assigned\",\"Neighborhood\":null},{\"Postal code\":\"M9G\",\"Borough\":\"Not assigned\",\"Neighborhood\":null},{\"Postal code\":\"M1H\",\"Borough\":\"Scarborough\",\"Neighborhood\":\"Cedarbrae\"},{\"Postal code\":\"M2H\",\"Borough\":\"North York\",\"Neighborhood\":\"Hillcrest Village\"},{\"Postal code\":\"M3H\",\"Borough\":\"North York\",\"Neighborhood\":\"Bathurst Manor \\/ Wilson Heights \\/ Downsview North\"},{\"Postal code\":\"M4H\",\"Borough\":\"East York\",\"Neighborhood\":\"Thorncliffe Park\"},{\"Postal code\":\"M5H\",\"Borough\":\"Downtown Toronto\",\"Neighborhood\":\"Richmond \\/ Adelaide \\/ King\"},{\"Postal code\":\"M6H\",\"Borough\":\"West Toronto\",\"Neighborhood\":\"Dufferin \\/ Dovercourt Village\"},{\"Postal code\":\"M7H\",\"Borough\":\"Not assigned\",\"Neighborhood\":null},{\"Postal code\":\"M8H\",\"Borough\":\"Not assigned\",\"Neighborhood\":null},{\"Postal code\":\"M9H\",\"Borough\":\"Not assigned\",\"Neighborhood\":null},{\"Postal code\":\"M1J\",\"Borough\":\"Scarborough\",\"Neighborhood\":\"Scarborough Village\"},{\"Postal code\":\"M2J\",\"Borough\":\"North York\",\"Neighborhood\":\"Fairview \\/ Henry Farm \\/ Oriole\"},{\"Postal code\":\"M3J\",\"Borough\":\"North York\",\"Neighborhood\":\"Northwood Park \\/ York University\"},{\"Postal code\":\"M4J\",\"Borough\":\"East York\",\"Neighborhood\":\"East Toronto\"},{\"Postal code\":\"M5J\",\"Borough\":\"Downtown Toronto\",\"Neighborhood\":\"Harbourfront East \\/ Union Station \\/ Toronto Islands\"},{\"Postal code\":\"M6J\",\"Borough\":\"West Toronto\",\"Neighborhood\":\"Little Portugal \\/ Trinity\"},{\"Postal code\":\"M7J\",\"Borough\":\"Not assigned\",\"Neighborhood\":null},{\"Postal code\":\"M8J\",\"Borough\":\"Not assigned\",\"Neighborhood\":null},{\"Postal code\":\"M9J\",\"Borough\":\"Not assigned\",\"Neighborhood\":null},{\"Postal code\":\"M1K\",\"Borough\":\"Scarborough\",\"Neighborhood\":\"Kennedy Park \\/ Ionview \\/ East Birchmount Park\"},{\"Postal code\":\"M2K\",\"Borough\":\"North York\",\"Neighborhood\":\"Bayview Village\"},{\"Postal code\":\"M3K\",\"Borough\":\"North York\",\"Neighborhood\":\"Downsview\"},{\"Postal code\":\"M4K\",\"Borough\":\"East Toronto\",\"Neighborhood\":\"The Danforth West \\/ Riverdale\"},{\"Postal code\":\"M5K\",\"Borough\":\"Downtown Toronto\",\"Neighborhood\":\"Toronto Dominion Centre \\/ Design Exchange\"},{\"Postal code\":\"M6K\",\"Borough\":\"West Toronto\",\"Neighborhood\":\"Brockton \\/ Parkdale Village \\/ Exhibition Place\"},{\"Postal code\":\"M7K\",\"Borough\":\"Not assigned\",\"Neighborhood\":null},{\"Postal code\":\"M8K\",\"Borough\":\"Not assigned\",\"Neighborhood\":null},{\"Postal code\":\"M9K\",\"Borough\":\"Not assigned\",\"Neighborhood\":null},{\"Postal code\":\"M1L\",\"Borough\":\"Scarborough\",\"Neighborhood\":\"Golden Mile \\/ Clairlea \\/ Oakridge\"},{\"Postal code\":\"M2L\",\"Borough\":\"North York\",\"Neighborhood\":\"York Mills \\/ Silver Hills\"},{\"Postal code\":\"M3L\",\"Borough\":\"North York\",\"Neighborhood\":\"Downsview\"},{\"Postal code\":\"M4L\",\"Borough\":\"East Toronto\",\"Neighborhood\":\"India Bazaar \\/ The Beaches West\"},{\"Postal code\":\"M5L\",\"Borough\":\"Downtown Toronto\",\"Neighborhood\":\"Commerce Court \\/ Victoria Hotel\"},{\"Postal code\":\"M6L\",\"Borough\":\"North York\",\"Neighborhood\":\"North Park \\/ Maple Leaf Park \\/ Upwood Park\"},{\"Postal code\":\"M7L\",\"Borough\":\"Not assigned\",\"Neighborhood\":null},{\"Postal code\":\"M8L\",\"Borough\":\"Not assigned\",\"Neighborhood\":null},{\"Postal code\":\"M9L\",\"Borough\":\"North York\",\"Neighborhood\":\"Humber Summit\"},{\"Postal code\":\"M1M\",\"Borough\":\"Scarborough\",\"Neighborhood\":\"Cliffside \\/ Cliffcrest \\/ Scarborough Village West\"},{\"Postal code\":\"M2M\",\"Borough\":\"North York\",\"Neighborhood\":\"Willowdale \\/ Newtonbrook\"},{\"Postal code\":\"M3M\",\"Borough\":\"North York\",\"Neighborhood\":\"Downsview\"},{\"Postal code\":\"M4M\",\"Borough\":\"East Toronto\",\"Neighborhood\":\"Studio District\"},{\"Postal code\":\"M5M\",\"Borough\":\"North York\",\"Neighborhood\":\"Bedford Park \\/ Lawrence Manor East\"},{\"Postal code\":\"M6M\",\"Borough\":\"York\",\"Neighborhood\":\"Del Ray \\/ Mount Dennis \\/ Keelsdale and Silverthorn\"},{\"Postal code\":\"M7M\",\"Borough\":\"Not assigned\",\"Neighborhood\":null},{\"Postal code\":\"M8M\",\"Borough\":\"Not assigned\",\"Neighborhood\":null},{\"Postal code\":\"M9M\",\"Borough\":\"North York\",\"Neighborhood\":\"Humberlea \\/ Emery\"},{\"Postal code\":\"M1N\",\"Borough\":\"Scarborough\",\"Neighborhood\":\"Birch Cliff \\/ Cliffside West\"},{\"Postal code\":\"M2N\",\"Borough\":\"North York\",\"Neighborhood\":\"Willowdale\"},{\"Postal code\":\"M3N\",\"Borough\":\"North York\",\"Neighborhood\":\"Downsview\"},{\"Postal code\":\"M4N\",\"Borough\":\"Central Toronto\",\"Neighborhood\":\"Lawrence Park\"},{\"Postal code\":\"M5N\",\"Borough\":\"Central Toronto\",\"Neighborhood\":\"Roselawn\"},{\"Postal code\":\"M6N\",\"Borough\":\"York\",\"Neighborhood\":\"Runnymede \\/ The Junction North\"},{\"Postal code\":\"M7N\",\"Borough\":\"Not assigned\",\"Neighborhood\":null},{\"Postal code\":\"M8N\",\"Borough\":\"Not assigned\",\"Neighborhood\":null},{\"Postal code\":\"M9N\",\"Borough\":\"York\",\"Neighborhood\":\"Weston\"},{\"Postal code\":\"M1P\",\"Borough\":\"Scarborough\",\"Neighborhood\":\"Dorset Park \\/ Wexford Heights \\/ Scarborough Town Centre\"},{\"Postal code\":\"M2P\",\"Borough\":\"North York\",\"Neighborhood\":\"York Mills West\"},{\"Postal code\":\"M3P\",\"Borough\":\"Not assigned\",\"Neighborhood\":null},{\"Postal code\":\"M4P\",\"Borough\":\"Central Toronto\",\"Neighborhood\":\"Davisville North\"},{\"Postal code\":\"M5P\",\"Borough\":\"Central Toronto\",\"Neighborhood\":\"Forest Hill North & West\"},{\"Postal code\":\"M6P\",\"Borough\":\"West Toronto\",\"Neighborhood\":\"High Park \\/ The Junction South\"},{\"Postal code\":\"M7P\",\"Borough\":\"Not assigned\",\"Neighborhood\":null},{\"Postal code\":\"M8P\",\"Borough\":\"Not assigned\",\"Neighborhood\":null},{\"Postal code\":\"M9P\",\"Borough\":\"Etobicoke\",\"Neighborhood\":\"Westmount\"},{\"Postal code\":\"M1R\",\"Borough\":\"Scarborough\",\"Neighborhood\":\"Wexford \\/ Maryvale\"},{\"Postal code\":\"M2R\",\"Borough\":\"North York\",\"Neighborhood\":\"Willowdale\"},{\"Postal code\":\"M3R\",\"Borough\":\"Not assigned\",\"Neighborhood\":null},{\"Postal code\":\"M4R\",\"Borough\":\"Central Toronto\",\"Neighborhood\":\"North Toronto West\"},{\"Postal code\":\"M5R\",\"Borough\":\"Central Toronto\",\"Neighborhood\":\"The Annex \\/ North Midtown \\/ Yorkville\"},{\"Postal code\":\"M6R\",\"Borough\":\"West Toronto\",\"Neighborhood\":\"Parkdale \\/ Roncesvalles\"},{\"Postal code\":\"M7R\",\"Borough\":\"Mississauga\",\"Neighborhood\":\"Canada Post Gateway Processing Centre\"},{\"Postal code\":\"M8R\",\"Borough\":\"Not assigned\",\"Neighborhood\":null},{\"Postal code\":\"M9R\",\"Borough\":\"Etobicoke\",\"Neighborhood\":\"Kingsview Village \\/ St. Phillips \\/ Martin Grove Gardens \\/ Richview Gardens\"},{\"Postal code\":\"M1S\",\"Borough\":\"Scarborough\",\"Neighborhood\":\"Agincourt\"},{\"Postal code\":\"M2S\",\"Borough\":\"Not assigned\",\"Neighborhood\":null},{\"Postal code\":\"M3S\",\"Borough\":\"Not assigned\",\"Neighborhood\":null},{\"Postal code\":\"M4S\",\"Borough\":\"Central Toronto\",\"Neighborhood\":\"Davisville\"},{\"Postal code\":\"M5S\",\"Borough\":\"Downtown Toronto\",\"Neighborhood\":\"University of Toronto \\/ Harbord\"},{\"Postal code\":\"M6S\",\"Borough\":\"West Toronto\",\"Neighborhood\":\"Runnymede \\/ Swansea\"},{\"Postal code\":\"M7S\",\"Borough\":\"Not assigned\",\"Neighborhood\":null},{\"Postal code\":\"M8S\",\"Borough\":\"Not assigned\",\"Neighborhood\":null},{\"Postal code\":\"M9S\",\"Borough\":\"Not assigned\",\"Neighborhood\":null},{\"Postal code\":\"M1T\",\"Borough\":\"Scarborough\",\"Neighborhood\":\"Clarks Corners \\/ Tam O'Shanter \\/ Sullivan\"},{\"Postal code\":\"M2T\",\"Borough\":\"Not assigned\",\"Neighborhood\":null},{\"Postal code\":\"M3T\",\"Borough\":\"Not assigned\",\"Neighborhood\":null},{\"Postal code\":\"M4T\",\"Borough\":\"Central Toronto\",\"Neighborhood\":\"Moore Park \\/ Summerhill East\"},{\"Postal code\":\"M5T\",\"Borough\":\"Downtown Toronto\",\"Neighborhood\":\"Kensington Market \\/ Chinatown \\/ Grange Park\"},{\"Postal code\":\"M6T\",\"Borough\":\"Not assigned\",\"Neighborhood\":null},{\"Postal code\":\"M7T\",\"Borough\":\"Not assigned\",\"Neighborhood\":null},{\"Postal code\":\"M8T\",\"Borough\":\"Not assigned\",\"Neighborhood\":null},{\"Postal code\":\"M9T\",\"Borough\":\"Not assigned\",\"Neighborhood\":null},{\"Postal code\":\"M1V\",\"Borough\":\"Scarborough\",\"Neighborhood\":\"Milliken \\/ Agincourt North \\/ Steeles East \\/ L'Amoreaux East\"},{\"Postal code\":\"M2V\",\"Borough\":\"Not assigned\",\"Neighborhood\":null},{\"Postal code\":\"M3V\",\"Borough\":\"Not assigned\",\"Neighborhood\":null},{\"Postal code\":\"M4V\",\"Borough\":\"Central Toronto\",\"Neighborhood\":\"Summerhill West \\/ Rathnelly \\/ South Hill \\/ Forest Hill SE \\/ Deer Park\"},{\"Postal code\":\"M5V\",\"Borough\":\"Downtown Toronto\",\"Neighborhood\":\"CN Tower \\/ King and Spadina \\/ Railway Lands \\/ Harbourfront West \\/ Bathurst  Quay \\/ South Niagara \\/ Island airport\"},{\"Postal code\":\"M6V\",\"Borough\":\"Not assigned\",\"Neighborhood\":null},{\"Postal code\":\"M7V\",\"Borough\":\"Not assigned\",\"Neighborhood\":null},{\"Postal code\":\"M8V\",\"Borough\":\"Etobicoke\",\"Neighborhood\":\"New Toronto \\/ Mimico South \\/ Humber Bay Shores\"},{\"Postal code\":\"M9V\",\"Borough\":\"Etobicoke\",\"Neighborhood\":\"South Steeles \\/ Silverstone \\/ Humbergate \\/ Jamestown \\/ Mount Olive \\/ Beaumond Heights \\/ Thistletown \\/ Albion Gardens\"},{\"Postal code\":\"M1W\",\"Borough\":\"Scarborough\",\"Neighborhood\":\"Steeles West \\/ L'Amoreaux West\"},{\"Postal code\":\"M2W\",\"Borough\":\"Not assigned\",\"Neighborhood\":null},{\"Postal code\":\"M3W\",\"Borough\":\"Not assigned\",\"Neighborhood\":null},{\"Postal code\":\"M4W\",\"Borough\":\"Downtown Toronto\",\"Neighborhood\":\"Rosedale\"},{\"Postal code\":\"M5W\",\"Borough\":\"Downtown Toronto\",\"Neighborhood\":\"Stn A PO Boxes\"},{\"Postal code\":\"M6W\",\"Borough\":\"Not assigned\",\"Neighborhood\":null},{\"Postal code\":\"M7W\",\"Borough\":\"Not assigned\",\"Neighborhood\":null},{\"Postal code\":\"M8W\",\"Borough\":\"Etobicoke\",\"Neighborhood\":\"Alderwood \\/ Long Branch\"},{\"Postal code\":\"M9W\",\"Borough\":\"Etobicoke\",\"Neighborhood\":\"Northwest\"},{\"Postal code\":\"M1X\",\"Borough\":\"Scarborough\",\"Neighborhood\":\"Upper Rouge\"},{\"Postal code\":\"M2X\",\"Borough\":\"Not assigned\",\"Neighborhood\":null},{\"Postal code\":\"M3X\",\"Borough\":\"Not assigned\",\"Neighborhood\":null},{\"Postal code\":\"M4X\",\"Borough\":\"Downtown Toronto\",\"Neighborhood\":\"St. James Town \\/ Cabbagetown\"},{\"Postal code\":\"M5X\",\"Borough\":\"Downtown Toronto\",\"Neighborhood\":\"First Canadian Place \\/ Underground city\"},{\"Postal code\":\"M6X\",\"Borough\":\"Not assigned\",\"Neighborhood\":null},{\"Postal code\":\"M7X\",\"Borough\":\"Not assigned\",\"Neighborhood\":null},{\"Postal code\":\"M8X\",\"Borough\":\"Etobicoke\",\"Neighborhood\":\"The Kingsway \\/ Montgomery Road \\/ Old Mill North\"},{\"Postal code\":\"M9X\",\"Borough\":\"Not assigned\",\"Neighborhood\":null},{\"Postal code\":\"M1Y\",\"Borough\":\"Not assigned\",\"Neighborhood\":null},{\"Postal code\":\"M2Y\",\"Borough\":\"Not assigned\",\"Neighborhood\":null},{\"Postal code\":\"M3Y\",\"Borough\":\"Not assigned\",\"Neighborhood\":null},{\"Postal code\":\"M4Y\",\"Borough\":\"Downtown Toronto\",\"Neighborhood\":\"Church and Wellesley\"},{\"Postal code\":\"M5Y\",\"Borough\":\"Not assigned\",\"Neighborhood\":null},{\"Postal code\":\"M6Y\",\"Borough\":\"Not assigned\",\"Neighborhood\":null},{\"Postal code\":\"M7Y\",\"Borough\":\"East Toronto\",\"Neighborhood\":\"Business reply mail Processing CentrE\"},{\"Postal code\":\"M8Y\",\"Borough\":\"Etobicoke\",\"Neighborhood\":\"Old Mill South \\/ King's Mill Park \\/ Sunnylea \\/ Humber Bay \\/ Mimico NE \\/ The Queensway East \\/ Royal York South East \\/ Kingsway Park South East\"},{\"Postal code\":\"M9Y\",\"Borough\":\"Not assigned\",\"Neighborhood\":null},{\"Postal code\":\"M1Z\",\"Borough\":\"Not assigned\",\"Neighborhood\":null},{\"Postal code\":\"M2Z\",\"Borough\":\"Not assigned\",\"Neighborhood\":null},{\"Postal code\":\"M3Z\",\"Borough\":\"Not assigned\",\"Neighborhood\":null},{\"Postal code\":\"M4Z\",\"Borough\":\"Not assigned\",\"Neighborhood\":null},{\"Postal code\":\"M5Z\",\"Borough\":\"Not assigned\",\"Neighborhood\":null},{\"Postal code\":\"M6Z\",\"Borough\":\"Not assigned\",\"Neighborhood\":null},{\"Postal code\":\"M7Z\",\"Borough\":\"Not assigned\",\"Neighborhood\":null},{\"Postal code\":\"M8Z\",\"Borough\":\"Etobicoke\",\"Neighborhood\":\"Mimico NW \\/ The Queensway West \\/ South of Bloor \\/ Kingsway Park South West \\/ Royal York South West\"},{\"Postal code\":\"M9Z\",\"Borough\":\"Not assigned\",\"Neighborhood\":null}]\n"
     ]
    }
   ],
   "source": [
    "import pandas as pd\n",
    "import requests\n",
    "from bs4 import BeautifulSoup\n",
    "\n",
    "res = requests.get(\"https://en.wikipedia.org/wiki/List_of_postal_codes_of_Canada:_M\")\n",
    "soup = BeautifulSoup(res.content,'lxml')\n",
    "table = soup.find_all('table')[0] \n",
    "df = pd.read_html(str(table))\n",
    "nb_json = df[0].to_json(orient='records')\n",
    "print(nb_json)"
   ]
  },
  {
   "cell_type": "code",
   "execution_count": 38,
   "metadata": {},
   "outputs": [
    {
     "ename": "AttributeError",
     "evalue": "'str' object has no attribute 'values'",
     "output_type": "error",
     "traceback": [
      "\u001b[1;31m---------------------------------------------------------------------------\u001b[0m",
      "\u001b[1;31mAttributeError\u001b[0m                            Traceback (most recent call last)",
      "\u001b[1;32m<ipython-input-38-8c61f62d3a46>\u001b[0m in \u001b[0;36m<module>\u001b[1;34m\u001b[0m\n\u001b[0;32m      1\u001b[0m \u001b[1;32mfrom\u001b[0m \u001b[0mpandas\u001b[0m\u001b[1;33m.\u001b[0m\u001b[0mio\u001b[0m\u001b[1;33m.\u001b[0m\u001b[0mjson\u001b[0m \u001b[1;32mimport\u001b[0m \u001b[0mjson_normalize\u001b[0m\u001b[1;33m\u001b[0m\u001b[1;33m\u001b[0m\u001b[0m\n\u001b[0;32m      2\u001b[0m \u001b[1;31m# tranform venues into a dataframe\u001b[0m\u001b[1;33m\u001b[0m\u001b[1;33m\u001b[0m\u001b[1;33m\u001b[0m\u001b[0m\n\u001b[1;32m----> 3\u001b[1;33m \u001b[0mdataframe\u001b[0m \u001b[1;33m=\u001b[0m \u001b[0mjson_normalize\u001b[0m\u001b[1;33m(\u001b[0m\u001b[0mnb_json\u001b[0m\u001b[1;33m)\u001b[0m\u001b[1;33m\u001b[0m\u001b[1;33m\u001b[0m\u001b[0m\n\u001b[0m\u001b[0;32m      4\u001b[0m \u001b[0mdataframe\u001b[0m\u001b[1;33m.\u001b[0m\u001b[0mhead\u001b[0m\u001b[1;33m(\u001b[0m\u001b[1;33m)\u001b[0m\u001b[1;33m\u001b[0m\u001b[1;33m\u001b[0m\u001b[0m\n",
      "\u001b[1;32mC:\\ProgramData\\Anaconda3\\lib\\site-packages\\pandas\\io\\json\\_normalize.py\u001b[0m in \u001b[0;36mjson_normalize\u001b[1;34m(data, record_path, meta, meta_prefix, record_prefix, errors, sep, max_level)\u001b[0m\n\u001b[0;32m    256\u001b[0m \u001b[1;33m\u001b[0m\u001b[0m\n\u001b[0;32m    257\u001b[0m     \u001b[1;32mif\u001b[0m \u001b[0mrecord_path\u001b[0m \u001b[1;32mis\u001b[0m \u001b[1;32mNone\u001b[0m\u001b[1;33m:\u001b[0m\u001b[1;33m\u001b[0m\u001b[1;33m\u001b[0m\u001b[0m\n\u001b[1;32m--> 258\u001b[1;33m         \u001b[1;32mif\u001b[0m \u001b[0many\u001b[0m\u001b[1;33m(\u001b[0m\u001b[1;33m[\u001b[0m\u001b[0misinstance\u001b[0m\u001b[1;33m(\u001b[0m\u001b[0mx\u001b[0m\u001b[1;33m,\u001b[0m \u001b[0mdict\u001b[0m\u001b[1;33m)\u001b[0m \u001b[1;32mfor\u001b[0m \u001b[0mx\u001b[0m \u001b[1;32min\u001b[0m \u001b[0my\u001b[0m\u001b[1;33m.\u001b[0m\u001b[0mvalues\u001b[0m\u001b[1;33m(\u001b[0m\u001b[1;33m)\u001b[0m\u001b[1;33m]\u001b[0m \u001b[1;32mfor\u001b[0m \u001b[0my\u001b[0m \u001b[1;32min\u001b[0m \u001b[0mdata\u001b[0m\u001b[1;33m)\u001b[0m\u001b[1;33m:\u001b[0m\u001b[1;33m\u001b[0m\u001b[1;33m\u001b[0m\u001b[0m\n\u001b[0m\u001b[0;32m    259\u001b[0m             \u001b[1;31m# naive normalization, this is idempotent for flat records\u001b[0m\u001b[1;33m\u001b[0m\u001b[1;33m\u001b[0m\u001b[1;33m\u001b[0m\u001b[0m\n\u001b[0;32m    260\u001b[0m             \u001b[1;31m# and potentially will inflate the data considerably for\u001b[0m\u001b[1;33m\u001b[0m\u001b[1;33m\u001b[0m\u001b[1;33m\u001b[0m\u001b[0m\n",
      "\u001b[1;32mC:\\ProgramData\\Anaconda3\\lib\\site-packages\\pandas\\io\\json\\_normalize.py\u001b[0m in \u001b[0;36m<genexpr>\u001b[1;34m(.0)\u001b[0m\n\u001b[0;32m    256\u001b[0m \u001b[1;33m\u001b[0m\u001b[0m\n\u001b[0;32m    257\u001b[0m     \u001b[1;32mif\u001b[0m \u001b[0mrecord_path\u001b[0m \u001b[1;32mis\u001b[0m \u001b[1;32mNone\u001b[0m\u001b[1;33m:\u001b[0m\u001b[1;33m\u001b[0m\u001b[1;33m\u001b[0m\u001b[0m\n\u001b[1;32m--> 258\u001b[1;33m         \u001b[1;32mif\u001b[0m \u001b[0many\u001b[0m\u001b[1;33m(\u001b[0m\u001b[1;33m[\u001b[0m\u001b[0misinstance\u001b[0m\u001b[1;33m(\u001b[0m\u001b[0mx\u001b[0m\u001b[1;33m,\u001b[0m \u001b[0mdict\u001b[0m\u001b[1;33m)\u001b[0m \u001b[1;32mfor\u001b[0m \u001b[0mx\u001b[0m \u001b[1;32min\u001b[0m \u001b[0my\u001b[0m\u001b[1;33m.\u001b[0m\u001b[0mvalues\u001b[0m\u001b[1;33m(\u001b[0m\u001b[1;33m)\u001b[0m\u001b[1;33m]\u001b[0m \u001b[1;32mfor\u001b[0m \u001b[0my\u001b[0m \u001b[1;32min\u001b[0m \u001b[0mdata\u001b[0m\u001b[1;33m)\u001b[0m\u001b[1;33m:\u001b[0m\u001b[1;33m\u001b[0m\u001b[1;33m\u001b[0m\u001b[0m\n\u001b[0m\u001b[0;32m    259\u001b[0m             \u001b[1;31m# naive normalization, this is idempotent for flat records\u001b[0m\u001b[1;33m\u001b[0m\u001b[1;33m\u001b[0m\u001b[1;33m\u001b[0m\u001b[0m\n\u001b[0;32m    260\u001b[0m             \u001b[1;31m# and potentially will inflate the data considerably for\u001b[0m\u001b[1;33m\u001b[0m\u001b[1;33m\u001b[0m\u001b[1;33m\u001b[0m\u001b[0m\n",
      "\u001b[1;31mAttributeError\u001b[0m: 'str' object has no attribute 'values'"
     ]
    }
   ],
   "source": [
    "from pandas.io.json import json_normalize\n",
    "# tranform venues into a dataframe\n",
    "dataframe = json_normalize(nb_json)\n",
    "dataframe.head()"
   ]
  },
  {
   "cell_type": "code",
   "execution_count": null,
   "metadata": {},
   "outputs": [],
   "source": []
  }
 ],
 "metadata": {
  "kernelspec": {
   "display_name": "Python 3",
   "language": "python",
   "name": "python3"
  },
  "language_info": {
   "codemirror_mode": {
    "name": "ipython",
    "version": 3
   },
   "file_extension": ".py",
   "mimetype": "text/x-python",
   "name": "python",
   "nbconvert_exporter": "python",
   "pygments_lexer": "ipython3",
   "version": "3.7.4"
  }
 },
 "nbformat": 4,
 "nbformat_minor": 2
}
